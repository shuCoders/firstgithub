{
 "cells": [
  {
   "cell_type": "code",
   "execution_count": 1,
   "id": "f82fdb87",
   "metadata": {},
   "outputs": [
    {
     "name": "stdout",
     "output_type": "stream",
     "text": [
      "python ka chilla with baba aammar\n"
     ]
    }
   ],
   "source": [
    "print(\"python ka chilla with baba aammar\")"
   ]
  },
  {
   "cell_type": "code",
   "execution_count": 2,
   "id": "da98a49e",
   "metadata": {},
   "outputs": [
    {
     "data": {
      "text/plain": [
       "'My name is baba Aammar'"
      ]
     },
     "execution_count": 2,
     "metadata": {},
     "output_type": "execute_result"
    }
   ],
   "source": [
    "aammar = \"My name is baba Aammar\"\n",
    "aammar"
   ]
  }
 ],
 "metadata": {
  "kernelspec": {
   "display_name": "Python 3 (ipykernel)",
   "language": "python",
   "name": "python3"
  },
  "language_info": {
   "codemirror_mode": {
    "name": "ipython",
    "version": 3
   },
   "file_extension": ".py",
   "mimetype": "text/x-python",
   "name": "python",
   "nbconvert_exporter": "python",
   "pygments_lexer": "ipython3",
   "version": "3.11.3"
  }
 },
 "nbformat": 4,
 "nbformat_minor": 5
}
